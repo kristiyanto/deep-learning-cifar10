{
 "cells": [
  {
   "cell_type": "markdown",
   "metadata": {
    "collapsed": true,
    "deletable": true,
    "editable": true
   },
   "source": [
    "# Image Classification\n",
    "In this project, we classified images from the [CIFAR-10 dataset](https://www.cs.toronto.edu/~kriz/cifar.html).  The dataset consists of airplanes, dogs, cats, and other objects. We preprocessed the images, then train a convolutional neural network on all the samples. The images need to be normalized and the labels need to be one-hot encoded.  We build a convolutional, max pooling, dropout, and fully connected layers.\n",
    "\n",
    "## Get the Data\n",
    "Run the following cell to download the [CIFAR-10 dataset for python](https://www.cs.toronto.edu/~kriz/cifar-10-python.tar.gz)."
   ]
  },
  {
   "cell_type": "code",
   "execution_count": 1,
   "metadata": {
    "collapsed": false,
    "deletable": true,
    "editable": true
   },
   "outputs": [
    {
     "name": "stdout",
     "output_type": "stream",
     "text": [
      "All files found!\n"
     ]
    }
   ],
   "source": [
    "from urllib.request import urlretrieve\n",
    "from os.path import isfile, isdir\n",
    "from sklearn.preprocessing import OneHotEncoder\n",
    "from tqdm import tqdm\n",
    "import problem_unittests as tests\n",
    "import tarfile\n",
    "\n",
    "cifar10_dataset_folder_path = 'cifar-10-batches-py'\n",
    "\n",
    "# Use Floyd's cifar-10 dataset if present\n",
    "floyd_cifar10_location = '/input/cifar-10/python.tar.gz'\n",
    "if isfile(floyd_cifar10_location):\n",
    "    tar_gz_path = floyd_cifar10_location\n",
    "else:\n",
    "    tar_gz_path = 'cifar-10-python.tar.gz'\n",
    "\n",
    "class DLProgress(tqdm):\n",
    "    last_block = 0\n",
    "\n",
    "    def hook(self, block_num=1, block_size=1, total_size=None):\n",
    "        self.total = total_size\n",
    "        self.update((block_num - self.last_block) * block_size)\n",
    "        self.last_block = block_num\n",
    "\n",
    "if not isfile(tar_gz_path):\n",
    "    with DLProgress(unit='B', unit_scale=True, miniters=1, desc='CIFAR-10 Dataset') as pbar:\n",
    "        urlretrieve(\n",
    "            'https://www.cs.toronto.edu/~kriz/cifar-10-python.tar.gz',\n",
    "            tar_gz_path,\n",
    "            pbar.hook)\n",
    "\n",
    "if not isdir(cifar10_dataset_folder_path):\n",
    "    with tarfile.open(tar_gz_path) as tar:\n",
    "        tar.extractall()\n",
    "        tar.close()\n",
    "\n",
    "\n",
    "tests.test_folder_path(cifar10_dataset_folder_path)"
   ]
  },
  {
   "cell_type": "markdown",
   "metadata": {
    "deletable": true,
    "editable": true
   },
   "source": [
    "## Explore the Data\n",
    "The dataset is broken into batches to prevent memory leak.  The CIFAR-10 dataset consists of 5 batches, named `data_batch_1`, `data_batch_2`, etc.. Each batch contains the labels and images that are one of the following:\n",
    "* airplane\n",
    "* automobile\n",
    "* bird\n",
    "* cat\n",
    "* deer\n",
    "* dog\n",
    "* frog\n",
    "* horse\n",
    "* ship\n",
    "* truck"
   ]
  },
  {
   "cell_type": "code",
   "execution_count": 23,
   "metadata": {
    "collapsed": false,
    "deletable": true,
    "editable": true
   },
   "outputs": [
    {
     "name": "stdout",
     "output_type": "stream",
     "text": [
      "\n",
      "Stats of batch 4:\n",
      "Samples: 10000\n",
      "Label Counts: {0: 1003, 1: 963, 2: 1041, 3: 976, 4: 1004, 5: 1021, 6: 1004, 7: 981, 8: 1024, 9: 983}\n",
      "First 20 Labels: [0, 6, 0, 2, 7, 2, 1, 2, 4, 1, 5, 6, 6, 3, 1, 3, 5, 5, 8, 1]\n",
      "\n",
      "Example of Image 4:\n",
      "Image - Min Value: 1 Max Value: 243\n",
      "Image - Shape: (32, 32, 3)\n",
      "Label - Label Id: 7 Name: horse\n"
     ]
    },
    {
     "data": {
      "image/png": "[encoded data removed]",
      "text/plain": [
       "<matplotlib.figure.Figure at 0x7fb5bb8ae9b0>"
      ]
     },
     "metadata": {
      "image/png": {
       "height": 250,
       "width": 253
      }
     },
     "output_type": "display_data"
    }
   ],
   "source": [
    "%matplotlib inline\n",
    "%config InlineBackend.figure_format = 'retina'\n",
    "\n",
    "import helper\n",
    "import numpy as np\n",
    "\n",
    "# Explore the dataset\n",
    "batch_id = 4\n",
    "sample_id = 4\n",
    "helper.display_stats(cifar10_dataset_folder_path, batch_id, sample_id)"
   ]
  },
  {
   "cell_type": "markdown",
   "metadata": {
    "deletable": true,
    "editable": true
   },
   "source": [
    "## Implement Preprocess Functions\n",
    "### Normalize\n",
    "In the cell below, implement the `normalize` function to take in image data, `x`, and return it as a normalized Numpy array. The values should be in the range of 0 to 1, inclusive.  The return object should be the same shape as `x`."
   ]
  },
  {
   "cell_type": "code",
   "execution_count": 3,
   "metadata": {
    "collapsed": false,
    "deletable": true,
    "editable": true
   },
   "outputs": [
    {
     "name": "stdout",
     "output_type": "stream",
     "text": [
      "Tests Passed\n"
     ]
    }
   ],
   "source": [
    "def normalize(x):\n",
    "    \"\"\"\n",
    "    Normalize a list of sample image data in the range of 0 to 1\n",
    "    : x: List of image data.  The image shape is (32, 32, 3)\n",
    "    : return: Numpy array of normalize data\n",
    "    \"\"\"  \n",
    "    x = np.array(x)\n",
    "    return (x - x.min()) / (x.max() - x.min())\n",
    "\n",
    "tests.test_normalize(normalize)"
   ]
  },
  {
   "cell_type": "markdown",
   "metadata": {
    "deletable": true,
    "editable": true
   },
   "source": [
    "### One-hot encode\n",
    "The input, `x`, are a list of labels, returning the list of labels as One-Hot encoded Numpy array.  The possible values for labels are 0 to 9. The one-hot encoding function should return the same encoding for each value between each call to `one_hot_encode`.  "
   ]
  },
  {
   "cell_type": "code",
   "execution_count": 4,
   "metadata": {
    "collapsed": false,
    "deletable": true,
    "editable": true
   },
   "outputs": [
    {
     "name": "stdout",
     "output_type": "stream",
     "text": [
      "Tests Passed\n"
     ]
    }
   ],
   "source": [
    "def one_hot_encode(x):\n",
    "    \"\"\"\n",
    "    One hot encode a list of sample labels. Return a one-hot encoded vector for each label.\n",
    "    : x: List of sample Labels\n",
    "    : return: Numpy array of one-hot encoded labels\n",
    "    \"\"\"\n",
    "    enc = OneHotEncoder(n_values=10) # possible labels: 0 to 9   \n",
    "    return enc.fit_transform(np.array(x).reshape(-1, 1)).toarray()\n",
    "\n",
    "tests.test_one_hot_encode(one_hot_encode)"
   ]
  },
  {
   "cell_type": "markdown",
   "metadata": {
    "deletable": true,
    "editable": true
   },
   "source": [
    "## Preprocess all the data and save it\n",
    "Running the code cell below will preprocess all the CIFAR-10 data and save it to file. The code below also uses 10% of the training data for validation."
   ]
  },
  {
   "cell_type": "code",
   "execution_count": 5,
   "metadata": {
    "collapsed": true,
    "deletable": true,
    "editable": true
   },
   "outputs": [],
   "source": [
    "# Preprocess Training, Validation, and Testing Data\n",
    "helper.preprocess_and_save_data(cifar10_dataset_folder_path, normalize, one_hot_encode)"
   ]
  },
  {
   "cell_type": "markdown",
   "metadata": {
    "deletable": true,
    "editable": true
   },
   "source": [
    "# Check Point\n",
    "The preprocessed data has been saved to disk."
   ]
  },
  {
   "cell_type": "code",
   "execution_count": 19,
   "metadata": {
    "collapsed": true,
    "deletable": true,
    "editable": true
   },
   "outputs": [],
   "source": [
    "import pickle\n",
    "import problem_unittests as tests\n",
    "import helper\n",
    "\n",
    "# Load the Preprocessed Validation data\n",
    "valid_features, valid_labels = pickle.load(open('preprocess_validation.p', mode='rb'))"
   ]
  },
  {
   "cell_type": "markdown",
   "metadata": {
    "deletable": true,
    "editable": true
   },
   "source": [
    "## Build the network\n",
    "For the neural network, we build each layer into a function.  To test the code more thoroughly, put each layer in a function.  This allows us to give a better feedback and test for simple mistakes using our unittests.\n",
    "\n",
    "### Input\n",
    "The neural network needs to read the image data, one-hot encoded labels, and dropout keep probability. \n",
    "* `neural_net_image_input`\n",
    " * Return a [TF Placeholder](https://www.tensorflow.org/api_docs/python/tf/placeholder)\n",
    " * Set the shape using `image_shape` with batch size set to `None`.\n",
    " * Name the TensorFlow placeholder \"x\" using the TensorFlow `name` parameter in the [TF Placeholder](https://www.tensorflow.org/api_docs/python/tf/placeholder).\n",
    "* `neural_net_label_input`\n",
    " * Return a [TF Placeholder](https://www.tensorflow.org/api_docs/python/tf/placeholder)\n",
    " * Set the shape using `n_classes` with batch size set to `None`.\n",
    " * Name the TensorFlow placeholder \"y\" using the TensorFlow `name` parameter in the [TF Placeholder](https://www.tensorflow.org/api_docs/python/tf/placeholder).\n",
    "* `neural_net_keep_prob_input`\n",
    " * Return a [TF Placeholder](https://www.tensorflow.org/api_docs/python/tf/placeholder) for dropout keep probability.\n",
    " * Name the TensorFlow placeholder \"keep_prob\" using the TensorFlow `name` parameter in the [TF Placeholder](https://www.tensorflow.org/api_docs/python/tf/placeholder).\n",
    "\n",
    "Note: `None` for shapes in TensorFlow allow for a dynamic size."
   ]
  },
  {
   "cell_type": "code",
   "execution_count": 7,
   "metadata": {
    "collapsed": false,
    "deletable": true,
    "editable": true
   },
   "outputs": [
    {
     "name": "stdout",
     "output_type": "stream",
     "text": [
      "Image Input Tests Passed.\n",
      "Label Input Tests Passed.\n",
      "Keep Prob Tests Passed.\n"
     ]
    }
   ],
   "source": [
    "import tensorflow as tf\n",
    "\n",
    "def neural_net_image_input(image_shape):\n",
    "    \"\"\"\n",
    "    Return a Tensor for a batch of image input\n",
    "    : image_shape: Shape of the images\n",
    "    : return: Tensor for image input.\n",
    "    \"\"\"\n",
    "    return tf.placeholder(tf.float32, shape=((None,) + image_shape), name='x')\n",
    "\n",
    "\n",
    "def neural_net_label_input(n_classes):\n",
    "    \"\"\"\n",
    "    Return a Tensor for a batch of label input\n",
    "    : n_classes: Number of classes\n",
    "    : return: Tensor for label input.\n",
    "    \"\"\"\n",
    "    return tf.placeholder(tf.float32, shape=(None, n_classes), name='y')\n",
    "\n",
    "\n",
    "def neural_net_keep_prob_input():\n",
    "    \"\"\"\n",
    "    Return a Tensor for keep probability\n",
    "    : return: Tensor for keep probability.\n",
    "    \"\"\"\n",
    "    return tf.placeholder(tf.float32, shape=(None), name='keep_prob')\n",
    "\n",
    "tf.reset_default_graph()\n",
    "tests.test_nn_image_inputs(neural_net_image_input)\n",
    "tests.test_nn_label_inputs(neural_net_label_input)\n",
    "tests.test_nn_keep_prob_inputs(neural_net_keep_prob_input)"
   ]
  },
  {
   "cell_type": "markdown",
   "metadata": {
    "deletable": true,
    "editable": true
   },
   "source": [
    "### Convolution and Max Pooling Layer\n",
    "Convolution layers have a lot of success with images. \n",
    "* Create the weight and bias using `conv_ksize`, `conv_num_outputs` and the shape of `x_tensor`.\n",
    "* Apply a convolution to `x_tensor` using weight and `conv_strides`.\n",
    "* Implement padding\n",
    "* Add bias\n",
    "* Add a nonlinear activation to the convolution.\n",
    "* Apply Max Pooling using `pool_ksize` and `pool_strides`.\n",
    "\n"
   ]
  },
  {
   "cell_type": "code",
   "execution_count": 8,
   "metadata": {
    "collapsed": false,
    "deletable": true,
    "editable": true
   },
   "outputs": [
    {
     "name": "stdout",
     "output_type": "stream",
     "text": [
      "Tests Passed\n"
     ]
    }
   ],
   "source": [
    "def conv2d_maxpool(x_tensor, conv_num_outputs, conv_ksize, conv_strides, pool_ksize, pool_strides):\n",
    "    \"\"\"\n",
    "    Apply convolution then max pooling to x_tensor\n",
    "    :param x_tensor: TensorFlow Tensor\n",
    "    :param conv_num_outputs: Number of outputs for the convolutional layer\n",
    "    :param conv_ksize: kernal size 2-D Tuple for the convolutional layer\n",
    "    :param conv_strides: Stride 2-D Tuple for convolution\n",
    "    :param pool_ksize: kernal size 2-D Tuple for pool\n",
    "    :param pool_strides: Stride 2-D Tuple for pool\n",
    "    : return: A tensor that represents convolution and max pooling of x_tensor\n",
    "    \"\"\"\n",
    "    weights_size = list(conv_ksize) + [x_tensor.get_shape().as_list()[3], conv_num_outputs]\n",
    "\n",
    "    weights = tf.Variable(tf.truncated_normal(weights_size, stddev=0.05))\n",
    "    bias = tf.Variable(tf.zeros(conv_num_outputs))\n",
    "    \n",
    "    result = tf.nn.conv2d(input=x_tensor, \n",
    "                          filter=weights, \n",
    "                          strides=[1, conv_strides[0], conv_strides[1], 1],\n",
    "                          padding='SAME')\n",
    "    result = tf.nn.relu(tf.nn.bias_add(result, bias))\n",
    "    result = tf.nn.max_pool(result, \n",
    "                            ksize=[1, pool_ksize[0], pool_ksize[1], 1], \n",
    "                            strides=[1, pool_strides[0], pool_strides[1], 1],\n",
    "                            padding='SAME')                                  \n",
    "    return result\n",
    "\n",
    "tests.test_con_pool(conv2d_maxpool)"
   ]
  },
  {
   "cell_type": "markdown",
   "metadata": {
    "deletable": true,
    "editable": true
   },
   "source": [
    "### Flatten Layer\n",
    "We implemented the `flatten` function to change the dimension of `x_tensor` from a 4-D tensor to a 2-D tensor.  The output should be the shape (*Batch Size*, *Flattened Image Size*)."
   ]
  },
  {
   "cell_type": "code",
   "execution_count": 9,
   "metadata": {
    "collapsed": false,
    "deletable": true,
    "editable": true
   },
   "outputs": [
    {
     "name": "stdout",
     "output_type": "stream",
     "text": [
      "Tests Passed\n"
     ]
    }
   ],
   "source": [
    "def flatten(x_tensor):\n",
    "    \"\"\"\n",
    "    Flatten x_tensor to (Batch Size, Flattened Image Size)\n",
    "    : x_tensor: A tensor of size (Batch Size, ...), where ... are the image dimensions.\n",
    "    : return: A tensor of size (Batch Size, Flattened Image Size).\n",
    "    \"\"\" \n",
    "    tensor_size = x_tensor.get_shape().as_list()\n",
    "    flattened_size = np.array(tensor_size[1:]).prod()\n",
    "    return tf.reshape(x_tensor, [tf.shape(x_tensor)[0], flattened_size])\n",
    "\n",
    "tests.test_flatten(flatten)"
   ]
  },
  {
   "cell_type": "markdown",
   "metadata": {
    "deletable": true,
    "editable": true
   },
   "source": [
    "### Fully-Connected Layer\n",
    "We implemented the `fully_conn` function to apply a fully connected layer to `x_tensor` with the shape (*Batch Size*, *num_outputs*). "
   ]
  },
  {
   "cell_type": "code",
   "execution_count": 10,
   "metadata": {
    "collapsed": false,
    "deletable": true,
    "editable": true
   },
   "outputs": [
    {
     "name": "stdout",
     "output_type": "stream",
     "text": [
      "Tests Passed\n"
     ]
    }
   ],
   "source": [
    "def fully_conn(x_tensor, num_outputs):\n",
    "    \"\"\"\n",
    "    Apply a fully connected layer to x_tensor using weight and bias\n",
    "    : x_tensor: A 2-D tensor where the first dimension is batch size.\n",
    "    : num_outputs: The number of output that the new tensor should be.\n",
    "    : return: A 2-D tensor where the second dimension is num_outputs.\n",
    "    \"\"\"\n",
    "    flattened_size = np.array(x_tensor.get_shape().as_list()[1:]).prod()\n",
    "    weights = tf.Variable(tf.truncated_normal([flattened_size, num_outputs], stddev=0.05))\n",
    "    bias = tf.Variable(tf.zeros([num_outputs]))\n",
    "    result = tf.nn.relu(tf.add(tf.matmul(x_tensor, weights), bias))        \n",
    "    return result\n",
    "\n",
    "tests.test_fully_conn(fully_conn)"
   ]
  },
  {
   "cell_type": "markdown",
   "metadata": {
    "deletable": true,
    "editable": true
   },
   "source": [
    "### Output Layer\n",
    "We implemented the `output` function to apply a fully connected layer to `x_tensor` with the shape (*Batch Size*, *num_outputs*). \n",
    "\n",
    "**Note:** Activation, softmax, or cross entropy were not applied to this."
   ]
  },
  {
   "cell_type": "code",
   "execution_count": 11,
   "metadata": {
    "collapsed": false,
    "deletable": true,
    "editable": true
   },
   "outputs": [
    {
     "name": "stdout",
     "output_type": "stream",
     "text": [
      "Tests Passed\n"
     ]
    }
   ],
   "source": [
    "def output(x_tensor, num_outputs):\n",
    "    \"\"\"\n",
    "    Apply a output layer to x_tensor using weight and bias\n",
    "    : x_tensor: A 2-D tensor where the first dimension is batch size.\n",
    "    : num_outputs: The number of output that the new tensor should be.\n",
    "    : return: A 2-D tensor where the second dimension is num_outputs.\n",
    "    \"\"\"\n",
    "    flattened_size = np.array(x_tensor.get_shape().as_list()[1:]).prod()\n",
    "    weights = tf.Variable(tf.truncated_normal([flattened_size, num_outputs], stddev=0.05))\n",
    "    bias = tf.Variable(tf.zeros([num_outputs]))\n",
    "    return tf.add(tf.matmul(x_tensor, weights), bias)\n",
    "\n",
    "tests.test_output(output)"
   ]
  },
  {
   "cell_type": "markdown",
   "metadata": {
    "deletable": true,
    "editable": true
   },
   "source": [
    "### Create Convolutional Model\n",
    "We implemented the function `conv_net` to create a convolutional neural network model. The function takes in a batch of images, `x`, and outputs logits.  We used the layers created above to create this model:\n",
    "\n",
    "* Apply 1, 2, or 3 Convolution and Max Pool layers\n",
    "* Apply a Flatten Layer\n",
    "* Apply 1, 2, or 3 Fully Connected Layers\n",
    "* Apply an Output Layer\n",
    "* Return the output\n",
    "* Apply [TensorFlow's Dropout](https://www.tensorflow.org/api_docs/python/tf/nn/dropout) to one or more layers in the model using `keep_prob`. "
   ]
  },
  {
   "cell_type": "code",
   "execution_count": 12,
   "metadata": {
    "collapsed": false,
    "deletable": true,
    "editable": true
   },
   "outputs": [
    {
     "name": "stdout",
     "output_type": "stream",
     "text": [
      "Neural Network Built!\n"
     ]
    }
   ],
   "source": [
    "def conv_net(x, keep_prob):\n",
    "    \"\"\"\n",
    "    Create a convolutional neural network model\n",
    "    : x: Placeholder tensor that holds image data.\n",
    "    : keep_prob: Placeholder tensor that hold dropout keep probability.\n",
    "    : return: Tensor that represents logits\n",
    "    \"\"\"\n",
    "    # TODO: Apply 1, 2, or 3 Convolution and Max Pool layers\n",
    "    #    Play around with different number of outputs, kernel size and stride\n",
    "    # Function Definition from Above:\n",
    "    #    conv2d_maxpool(x_tensor, conv_num_outputs, conv_ksize, conv_strides, pool_ksize, pool_strides)\n",
    "    \n",
    "    # numbers are from iterations of trials and errors\n",
    "    conv_2d = conv2d_maxpool(x,\n",
    "                           conv_num_outputs=64, \n",
    "                           conv_ksize=[8, 8],\n",
    "                           conv_strides=[2, 2],\n",
    "                           pool_ksize=[2, 2],\n",
    "                           pool_strides=[2, 2])\n",
    "    \n",
    "    conv_2d = conv2d_maxpool(conv_2d,\n",
    "                          conv_num_outputs=32,\n",
    "                          conv_ksize=[8, 8],\n",
    "                          conv_strides=[2, 2],\n",
    "                          pool_ksize=[4, 4],\n",
    "                          pool_strides=[2, 2])\n",
    "    \n",
    "    #   flatten(x_tensor)\n",
    "    flattened_conv2d = flatten(conv_2d)\n",
    "\n",
    "    # Apply 1, 2, or 3 Fully Connected Layers\n",
    "    fully_connected = fully_conn(flattened_conv2d, 384) \n",
    "    fully_connected = fully_conn(fully_connected, 192)    \n",
    "    \n",
    "    # Apply an Output Layer\n",
    "    result = tf.nn.dropout(fully_connected, keep_prob)\n",
    "    result = output(result, 10) # 0-9\n",
    "    \n",
    "    return result\n",
    "    \n",
    "\n",
    "##############################\n",
    "## Build the Neural Network ##\n",
    "##############################\n",
    "\n",
    "# Remove previous weights, bias, inputs, etc..\n",
    "tf.reset_default_graph()\n",
    "\n",
    "# Inputs\n",
    "x = neural_net_image_input((32, 32, 3))\n",
    "y = neural_net_label_input(10)\n",
    "keep_prob = neural_net_keep_prob_input()\n",
    "\n",
    "# Model\n",
    "logits = conv_net(x, keep_prob)\n",
    "\n",
    "# Name logits Tensor, so that is can be loaded from disk after training\n",
    "logits = tf.identity(logits, name='logits')\n",
    "\n",
    "# Loss and Optimizer\n",
    "cost = tf.reduce_mean(tf.nn.softmax_cross_entropy_with_logits(logits=logits, labels=y))\n",
    "optimizer = tf.train.AdamOptimizer().minimize(cost)\n",
    "\n",
    "# Accuracy\n",
    "correct_pred = tf.equal(tf.argmax(logits, 1), tf.argmax(y, 1))\n",
    "accuracy = tf.reduce_mean(tf.cast(correct_pred, tf.float32), name='accuracy')\n",
    "\n",
    "tests.test_conv_net(conv_net)"
   ]
  },
  {
   "cell_type": "markdown",
   "metadata": {
    "deletable": true,
    "editable": true
   },
   "source": [
    "## Train the Neural Network\n",
    "### Single Optimization\n",
    "We implemented the function `train_neural_network` to do a single optimization.  The optimization should use `optimizer` to optimize in `session` with a `feed_dict` of the following:\n",
    "* `x` for image input\n",
    "* `y` for labels\n",
    "* `keep_prob` for keep probability for dropout\n",
    "\n",
    "This function will be called for each batch, so `tf.global_variables_initializer()` has already been called.\n",
    "\n",
    "Note: Nothing needs to be returned. This function is only optimizing the neural network."
   ]
  },
  {
   "cell_type": "code",
   "execution_count": 13,
   "metadata": {
    "collapsed": false,
    "deletable": true,
    "editable": true
   },
   "outputs": [
    {
     "name": "stdout",
     "output_type": "stream",
     "text": [
      "Tests Passed\n"
     ]
    }
   ],
   "source": [
    "def train_neural_network(session, optimizer, keep_probability, feature_batch, label_batch):\n",
    "    \"\"\"\n",
    "    Optimize the session on a batch of images and labels\n",
    "    : session: Current TensorFlow session\n",
    "    : optimizer: TensorFlow optimizer function\n",
    "    : keep_probability: keep probability\n",
    "    : feature_batch: Batch of Numpy image data\n",
    "    : label_batch: Batch of Numpy label data\n",
    "    \"\"\"\n",
    "    session.run(optimizer, feed_dict={x: feature_batch,\n",
    "                                      y: label_batch,\n",
    "                                      keep_prob: keep_probability})\n",
    "    return\n",
    "\n",
    "\n",
    "tests.test_train_nn(train_neural_network)"
   ]
  },
  {
   "cell_type": "markdown",
   "metadata": {
    "deletable": true,
    "editable": true
   },
   "source": [
    "### Show Stats\n",
    "We implemented the function `print_stats` to print loss and validation accuracy. We used the global variables `valid_features` and `valid_labels` to calculate validation accuracy, and keep probability of `1.0` to calculate the loss and validation accuracy."
   ]
  },
  {
   "cell_type": "code",
   "execution_count": 14,
   "metadata": {
    "collapsed": true,
    "deletable": true,
    "editable": true
   },
   "outputs": [],
   "source": [
    "def print_stats(session, feature_batch, label_batch, cost, accuracy):\n",
    "    \"\"\"\n",
    "    Print information about loss and validation accuracy\n",
    "    : session: Current TensorFlow session\n",
    "    : feature_batch: Batch of Numpy image data\n",
    "    : label_batch: Batch of Numpy label data\n",
    "    : cost: TensorFlow cost function\n",
    "    : accuracy: TensorFlow accuracy function\n",
    "    \"\"\"\n",
    "    loss = sess.run(cost, feed_dict={x: feature_batch,\n",
    "                                     y: label_batch,\n",
    "                                     keep_prob: 1.})\n",
    "    valid_acc = sess.run(accuracy, feed_dict={x: valid_features,\n",
    "                                              y: valid_labels,\n",
    "                                              keep_prob: 1.})\n",
    "    print('Loss: %s' % loss)\n",
    "    print('Accuracy: %s' % valid_acc )\n",
    "    return\n"
   ]
  },
  {
   "cell_type": "markdown",
   "metadata": {
    "deletable": true,
    "editable": true
   },
   "source": [
    "### Hyperparameters\n",
    "Tune the following parameters:\n",
    "* Set `epochs` to the number of iterations until the network stops learning or start overfitting\n",
    "* Set `batch_size` to the highest number. Common sizes of memory:\n",
    " * 64\n",
    " * 128\n",
    " * 256\n",
    " * ...\n",
    "* Set `keep_probability` to the probability of keeping a node using dropout"
   ]
  },
  {
   "cell_type": "code",
   "execution_count": 15,
   "metadata": {
    "collapsed": true,
    "deletable": true,
    "editable": true
   },
   "outputs": [],
   "source": [
    "# TODO: Tune Parameters\n",
    "epochs = 50\n",
    "batch_size = 512\n",
    "keep_probability = 0.74"
   ]
  },
  {
   "cell_type": "markdown",
   "metadata": {
    "deletable": true,
    "editable": true
   },
   "source": [
    "### Train on a Single CIFAR-10 Batch\n",
    "Instead of training the neural network on all the CIFAR-10 batches of data, let's use a single batch. This should save time while iterating on the model to get a better accuracy.  Once the final validation accuracy is 50% or greater, run the model on all the data in the next section."
   ]
  },
  {
   "cell_type": "code",
   "execution_count": 16,
   "metadata": {
    "collapsed": false,
    "deletable": true,
    "editable": true
   },
   "outputs": [
    {
     "name": "stdout",
     "output_type": "stream",
     "text": [
      "Checking the Training on a Single Batch...\n",
      "Epoch  1, CIFAR-10 Batch 1:  Loss: 2.11845\n",
      "Accuracy: 0.2332\n",
      "Epoch  2, CIFAR-10 Batch 1:  Loss: 1.89941\n",
      "Accuracy: 0.3074\n",
      "Epoch  3, CIFAR-10 Batch 1:  Loss: 1.84342\n",
      "Accuracy: 0.3332\n",
      "Epoch  4, CIFAR-10 Batch 1:  Loss: 1.72478\n",
      "Accuracy: 0.3632\n",
      "Epoch  5, CIFAR-10 Batch 1:  Loss: 1.63758\n",
      "Accuracy: 0.3922\n",
      "Epoch  6, CIFAR-10 Batch 1:  Loss: 1.53956\n",
      "Accuracy: 0.4332\n",
      "Epoch  7, CIFAR-10 Batch 1:  Loss: 1.46368\n",
      "Accuracy: 0.4378\n",
      "Epoch  8, CIFAR-10 Batch 1:  Loss: 1.38216\n",
      "Accuracy: 0.4592\n",
      "Epoch  9, CIFAR-10 Batch 1:  Loss: 1.35312\n",
      "Accuracy: 0.4604\n",
      "Epoch 10, CIFAR-10 Batch 1:  Loss: 1.25313\n",
      "Accuracy: 0.492\n",
      "Epoch 11, CIFAR-10 Batch 1:  Loss: 1.23001\n",
      "Accuracy: 0.4656\n",
      "Epoch 12, CIFAR-10 Batch 1:  Loss: 1.15928\n",
      "Accuracy: 0.486\n",
      "Epoch 13, CIFAR-10 Batch 1:  Loss: 1.0761\n",
      "Accuracy: 0.5028\n",
      "Epoch 14, CIFAR-10 Batch 1:  Loss: 1.12095\n",
      "Accuracy: 0.482\n",
      "Epoch 15, CIFAR-10 Batch 1:  Loss: 0.997153\n",
      "Accuracy: 0.5056\n",
      "Epoch 16, CIFAR-10 Batch 1:  Loss: 0.89822\n",
      "Accuracy: 0.517\n",
      "Epoch 17, CIFAR-10 Batch 1:  Loss: 0.811712\n",
      "Accuracy: 0.521\n",
      "Epoch 18, CIFAR-10 Batch 1:  Loss: 0.777101\n",
      "Accuracy: 0.5252\n",
      "Epoch 19, CIFAR-10 Batch 1:  Loss: 0.783593\n",
      "Accuracy: 0.5202\n",
      "Epoch 20, CIFAR-10 Batch 1:  Loss: 0.740534\n",
      "Accuracy: 0.5164\n",
      "Epoch 21, CIFAR-10 Batch 1:  Loss: 0.687793\n",
      "Accuracy: 0.5116\n",
      "Epoch 22, CIFAR-10 Batch 1:  Loss: 0.686546\n",
      "Accuracy: 0.5\n",
      "Epoch 23, CIFAR-10 Batch 1:  Loss: 0.688387\n",
      "Accuracy: 0.5032\n",
      "Epoch 24, CIFAR-10 Batch 1:  Loss: 0.567721\n",
      "Accuracy: 0.5198\n",
      "Epoch 25, CIFAR-10 Batch 1:  Loss: 0.59546\n",
      "Accuracy: 0.5038\n",
      "Epoch 26, CIFAR-10 Batch 1:  Loss: 0.628477\n",
      "Accuracy: 0.491\n",
      "Epoch 27, CIFAR-10 Batch 1:  Loss: 0.4583\n",
      "Accuracy: 0.5266\n",
      "Epoch 28, CIFAR-10 Batch 1:  Loss: 0.453701\n",
      "Accuracy: 0.5136\n",
      "Epoch 29, CIFAR-10 Batch 1:  Loss: 0.40162\n",
      "Accuracy: 0.5116\n",
      "Epoch 30, CIFAR-10 Batch 1:  Loss: 0.36962\n",
      "Accuracy: 0.5216\n",
      "Epoch 31, CIFAR-10 Batch 1:  Loss: 0.392567\n",
      "Accuracy: 0.4906\n",
      "Epoch 32, CIFAR-10 Batch 1:  Loss: 0.503606\n",
      "Accuracy: 0.48\n",
      "Epoch 33, CIFAR-10 Batch 1:  Loss: 0.469188\n",
      "Accuracy: 0.5186\n",
      "Epoch 34, CIFAR-10 Batch 1:  Loss: 0.464811\n",
      "Accuracy: 0.499\n",
      "Epoch 35, CIFAR-10 Batch 1:  Loss: 0.390104\n",
      "Accuracy: 0.511\n",
      "Epoch 36, CIFAR-10 Batch 1:  Loss: 0.502909\n",
      "Accuracy: 0.461\n",
      "Epoch 37, CIFAR-10 Batch 1:  Loss: 0.294313\n",
      "Accuracy: 0.5084\n",
      "Epoch 38, CIFAR-10 Batch 1:  Loss: 0.332677\n",
      "Accuracy: 0.4812\n",
      "Epoch 39, CIFAR-10 Batch 1:  Loss: 0.309299\n",
      "Accuracy: 0.4734\n",
      "Epoch 40, CIFAR-10 Batch 1:  Loss: 0.266766\n",
      "Accuracy: 0.514\n",
      "Epoch 41, CIFAR-10 Batch 1:  Loss: 0.267287\n",
      "Accuracy: 0.5004\n",
      "Epoch 42, CIFAR-10 Batch 1:  Loss: 0.219695\n",
      "Accuracy: 0.495\n",
      "Epoch 43, CIFAR-10 Batch 1:  Loss: 0.206761\n",
      "Accuracy: 0.4946\n",
      "Epoch 44, CIFAR-10 Batch 1:  Loss: 0.290807\n",
      "Accuracy: 0.4816\n",
      "Epoch 45, CIFAR-10 Batch 1:  Loss: 0.319742\n",
      "Accuracy: 0.4752\n",
      "Epoch 46, CIFAR-10 Batch 1:  Loss: 0.256635\n",
      "Accuracy: 0.4966\n",
      "Epoch 47, CIFAR-10 Batch 1:  Loss: 0.164038\n",
      "Accuracy: 0.506\n",
      "Epoch 48, CIFAR-10 Batch 1:  Loss: 0.191562\n",
      "Accuracy: 0.498\n",
      "Epoch 49, CIFAR-10 Batch 1:  Loss: 0.191593\n",
      "Accuracy: 0.4928\n",
      "Epoch 50, CIFAR-10 Batch 1:  Loss: 0.193283\n",
      "Accuracy: 0.4866\n"
     ]
    }
   ],
   "source": [
    "print('Checking the Training on a Single Batch...')\n",
    "with tf.Session() as sess:\n",
    "    # Initializing the variables\n",
    "    sess.run(tf.global_variables_initializer())\n",
    "    \n",
    "    # Training cycle\n",
    "    for epoch in range(epochs):\n",
    "        batch_i = 1\n",
    "        for batch_features, batch_labels in helper.load_preprocess_training_batch(batch_i, batch_size):\n",
    "            train_neural_network(sess, optimizer, keep_probability, batch_features, batch_labels)\n",
    "        print('Epoch {:>2}, CIFAR-10 Batch {}:  '.format(epoch + 1, batch_i), end='')\n",
    "        print_stats(sess, batch_features, batch_labels, cost, accuracy)"
   ]
  },
  {
   "cell_type": "markdown",
   "metadata": {
    "deletable": true,
    "editable": true
   },
   "source": [
    "### Fully Train the Model\n",
    "Now that we got a good accuracy with a single CIFAR-10 batch, let's try it with all five batches."
   ]
  },
  {
   "cell_type": "code",
   "execution_count": 17,
   "metadata": {
    "collapsed": false,
    "deletable": true,
    "editable": true
   },
   "outputs": [
    {
     "name": "stdout",
     "output_type": "stream",
     "text": [
      "Training...\n",
      "Epoch  1, CIFAR-10 Batch 1:  Loss: 2.0205\n",
      "Accuracy: 0.236\n",
      "Epoch  1, CIFAR-10 Batch 2:  Loss: 1.83008\n",
      "Accuracy: 0.308\n",
      "Epoch  1, CIFAR-10 Batch 3:  Loss: 1.64645\n",
      "Accuracy: 0.3496\n",
      "Epoch  1, CIFAR-10 Batch 4:  Loss: 1.61154\n",
      "Accuracy: 0.3774\n",
      "Epoch  1, CIFAR-10 Batch 5:  Loss: 1.62505\n",
      "Accuracy: 0.3902\n",
      "Epoch  2, CIFAR-10 Batch 1:  Loss: 1.66977\n",
      "Accuracy: 0.4232\n",
      "Epoch  2, CIFAR-10 Batch 2:  Loss: 1.48388\n",
      "Accuracy: 0.457\n",
      "Epoch  2, CIFAR-10 Batch 3:  Loss: 1.31815\n",
      "Accuracy: 0.4504\n",
      "Epoch  2, CIFAR-10 Batch 4:  Loss: 1.39006\n",
      "Accuracy: 0.4538\n",
      "Epoch  2, CIFAR-10 Batch 5:  Loss: 1.38454\n",
      "Accuracy: 0.4696\n",
      "Epoch  3, CIFAR-10 Batch 1:  Loss: 1.43425\n",
      "Accuracy: 0.4848\n",
      "Epoch  3, CIFAR-10 Batch 2:  Loss: 1.32623\n",
      "Accuracy: 0.4906\n",
      "Epoch  3, CIFAR-10 Batch 3:  Loss: 1.13911\n",
      "Accuracy: 0.505\n",
      "Epoch  3, CIFAR-10 Batch 4:  Loss: 1.17238\n",
      "Accuracy: 0.511\n",
      "Epoch  3, CIFAR-10 Batch 5:  Loss: 1.24979\n",
      "Accuracy: 0.5126\n",
      "Epoch  4, CIFAR-10 Batch 1:  Loss: 1.28929\n",
      "Accuracy: 0.5252\n",
      "Epoch  4, CIFAR-10 Batch 2:  Loss: 1.23033\n",
      "Accuracy: 0.5218\n",
      "Epoch  4, CIFAR-10 Batch 3:  Loss: 1.08128\n",
      "Accuracy: 0.5302\n",
      "Epoch  4, CIFAR-10 Batch 4:  Loss: 1.07317\n",
      "Accuracy: 0.5404\n",
      "Epoch  4, CIFAR-10 Batch 5:  Loss: 1.14332\n",
      "Accuracy: 0.5386\n",
      "Epoch  5, CIFAR-10 Batch 1:  Loss: 1.23823\n",
      "Accuracy: 0.5214\n",
      "Epoch  5, CIFAR-10 Batch 2:  Loss: 1.12164\n",
      "Accuracy: 0.5432\n",
      "Epoch  5, CIFAR-10 Batch 3:  Loss: 0.986613\n",
      "Accuracy: 0.5556\n",
      "Epoch  5, CIFAR-10 Batch 4:  Loss: 0.991573\n",
      "Accuracy: 0.5542\n",
      "Epoch  5, CIFAR-10 Batch 5:  Loss: 1.06619\n",
      "Accuracy: 0.56\n",
      "Epoch  6, CIFAR-10 Batch 1:  Loss: 1.13112\n",
      "Accuracy: 0.562\n",
      "Epoch  6, CIFAR-10 Batch 2:  Loss: 1.03501\n",
      "Accuracy: 0.557\n",
      "Epoch  6, CIFAR-10 Batch 3:  Loss: 0.930221\n",
      "Accuracy: 0.571\n",
      "Epoch  6, CIFAR-10 Batch 4:  Loss: 0.90637\n",
      "Accuracy: 0.5696\n",
      "Epoch  6, CIFAR-10 Batch 5:  Loss: 0.98014\n",
      "Accuracy: 0.5784\n",
      "Epoch  7, CIFAR-10 Batch 1:  Loss: 1.05811\n",
      "Accuracy: 0.577\n",
      "Epoch  7, CIFAR-10 Batch 2:  Loss: 0.963061\n",
      "Accuracy: 0.5806\n",
      "Epoch  7, CIFAR-10 Batch 3:  Loss: 0.947243\n",
      "Accuracy: 0.5598\n",
      "Epoch  7, CIFAR-10 Batch 4:  Loss: 0.913226\n",
      "Accuracy: 0.5696\n",
      "Epoch  7, CIFAR-10 Batch 5:  Loss: 0.911738\n",
      "Accuracy: 0.5874\n",
      "Epoch  8, CIFAR-10 Batch 1:  Loss: 1.06954\n",
      "Accuracy: 0.567\n",
      "Epoch  8, CIFAR-10 Batch 2:  Loss: 0.896378\n",
      "Accuracy: 0.5982\n",
      "Epoch  8, CIFAR-10 Batch 3:  Loss: 0.859743\n",
      "Accuracy: 0.5926\n",
      "Epoch  8, CIFAR-10 Batch 4:  Loss: 0.873282\n",
      "Accuracy: 0.5814\n",
      "Epoch  8, CIFAR-10 Batch 5:  Loss: 0.860824\n",
      "Accuracy: 0.5966\n",
      "Epoch  9, CIFAR-10 Batch 1:  Loss: 1.02322\n",
      "Accuracy: 0.5678\n",
      "Epoch  9, CIFAR-10 Batch 2:  Loss: 0.835092\n",
      "Accuracy: 0.6042\n",
      "Epoch  9, CIFAR-10 Batch 3:  Loss: 0.848146\n",
      "Accuracy: 0.58\n",
      "Epoch  9, CIFAR-10 Batch 4:  Loss: 0.790476\n",
      "Accuracy: 0.5998\n",
      "Epoch  9, CIFAR-10 Batch 5:  Loss: 0.837907\n",
      "Accuracy: 0.6022\n",
      "Epoch 10, CIFAR-10 Batch 1:  Loss: 0.991337\n",
      "Accuracy: 0.5642\n",
      "Epoch 10, CIFAR-10 Batch 2:  Loss: 0.787256\n",
      "Accuracy: 0.6094\n",
      "Epoch 10, CIFAR-10 Batch 3:  Loss: 0.748362\n",
      "Accuracy: 0.6046\n",
      "Epoch 10, CIFAR-10 Batch 4:  Loss: 0.747058\n",
      "Accuracy: 0.6026\n",
      "Epoch 10, CIFAR-10 Batch 5:  Loss: 0.768198\n",
      "Accuracy: 0.6094\n",
      "Epoch 11, CIFAR-10 Batch 1:  Loss: 0.880776\n",
      "Accuracy: 0.5862\n",
      "Epoch 11, CIFAR-10 Batch 2:  Loss: 0.720488\n",
      "Accuracy: 0.623\n",
      "Epoch 11, CIFAR-10 Batch 3:  Loss: 0.723889\n",
      "Accuracy: 0.5944\n",
      "Epoch 11, CIFAR-10 Batch 4:  Loss: 0.717417\n",
      "Accuracy: 0.6022\n",
      "Epoch 11, CIFAR-10 Batch 5:  Loss: 0.752372\n",
      "Accuracy: 0.6092\n",
      "Epoch 12, CIFAR-10 Batch 1:  Loss: 0.836149\n",
      "Accuracy: 0.5906\n",
      "Epoch 12, CIFAR-10 Batch 2:  Loss: 0.7437\n",
      "Accuracy: 0.6122\n",
      "Epoch 12, CIFAR-10 Batch 3:  Loss: 0.692212\n",
      "Accuracy: 0.6082\n",
      "Epoch 12, CIFAR-10 Batch 4:  Loss: 0.693278\n",
      "Accuracy: 0.6172\n",
      "Epoch 12, CIFAR-10 Batch 5:  Loss: 0.687426\n",
      "Accuracy: 0.6124\n",
      "Epoch 13, CIFAR-10 Batch 1:  Loss: 0.784314\n",
      "Accuracy: 0.6006\n",
      "Epoch 13, CIFAR-10 Batch 2:  Loss: 0.667953\n",
      "Accuracy: 0.6258\n",
      "Epoch 13, CIFAR-10 Batch 3:  Loss: 0.689187\n",
      "Accuracy: 0.6076\n",
      "Epoch 13, CIFAR-10 Batch 4:  Loss: 0.607462\n",
      "Accuracy: 0.6232\n",
      "Epoch 13, CIFAR-10 Batch 5:  Loss: 0.624503\n",
      "Accuracy: 0.6204\n",
      "Epoch 14, CIFAR-10 Batch 1:  Loss: 0.769358\n",
      "Accuracy: 0.5926\n",
      "Epoch 14, CIFAR-10 Batch 2:  Loss: 0.668258\n",
      "Accuracy: 0.6154\n",
      "Epoch 14, CIFAR-10 Batch 3:  Loss: 0.689507\n",
      "Accuracy: 0.5846\n",
      "Epoch 14, CIFAR-10 Batch 4:  Loss: 0.599466\n",
      "Accuracy: 0.6118\n",
      "Epoch 14, CIFAR-10 Batch 5:  Loss: 0.606253\n",
      "Accuracy: 0.6234\n",
      "Epoch 15, CIFAR-10 Batch 1:  Loss: 0.707521\n",
      "Accuracy: 0.6042\n",
      "Epoch 15, CIFAR-10 Batch 2:  Loss: 0.698477\n",
      "Accuracy: 0.6082\n",
      "Epoch 15, CIFAR-10 Batch 3:  Loss: 0.633724\n",
      "Accuracy: 0.5946\n",
      "Epoch 15, CIFAR-10 Batch 4:  Loss: 0.601498\n",
      "Accuracy: 0.6046\n",
      "Epoch 15, CIFAR-10 Batch 5:  Loss: 0.600748\n",
      "Accuracy: 0.623\n",
      "Epoch 16, CIFAR-10 Batch 1:  Loss: 0.63418\n",
      "Accuracy: 0.6238\n",
      "Epoch 16, CIFAR-10 Batch 2:  Loss: 0.669327\n",
      "Accuracy: 0.61\n",
      "Epoch 16, CIFAR-10 Batch 3:  Loss: 0.556057\n",
      "Accuracy: 0.6072\n",
      "Epoch 16, CIFAR-10 Batch 4:  Loss: 0.556046\n",
      "Accuracy: 0.619\n",
      "Epoch 16, CIFAR-10 Batch 5:  Loss: 0.56177\n",
      "Accuracy: 0.635\n",
      "Epoch 17, CIFAR-10 Batch 1:  Loss: 0.586745\n",
      "Accuracy: 0.6168\n",
      "Epoch 17, CIFAR-10 Batch 2:  Loss: 0.662618\n",
      "Accuracy: 0.6134\n",
      "Epoch 17, CIFAR-10 Batch 3:  Loss: 0.524241\n",
      "Accuracy: 0.6142\n",
      "Epoch 17, CIFAR-10 Batch 4:  Loss: 0.56029\n",
      "Accuracy: 0.625\n",
      "Epoch 17, CIFAR-10 Batch 5:  Loss: 0.564743\n",
      "Accuracy: 0.6304\n",
      "Epoch 18, CIFAR-10 Batch 1:  Loss: 0.653955\n",
      "Accuracy: 0.5944\n",
      "Epoch 18, CIFAR-10 Batch 2:  Loss: 0.646271\n",
      "Accuracy: 0.6144\n",
      "Epoch 18, CIFAR-10 Batch 3:  Loss: 0.527093\n",
      "Accuracy: 0.6086\n",
      "Epoch 18, CIFAR-10 Batch 4:  Loss: 0.557678\n",
      "Accuracy: 0.6246\n",
      "Epoch 18, CIFAR-10 Batch 5:  Loss: 0.623977\n",
      "Accuracy: 0.599\n",
      "Epoch 19, CIFAR-10 Batch 1:  Loss: 0.623978\n",
      "Accuracy: 0.6042\n",
      "Epoch 19, CIFAR-10 Batch 2:  Loss: 0.636965\n",
      "Accuracy: 0.6014\n",
      "Epoch 19, CIFAR-10 Batch 3:  Loss: 0.534956\n",
      "Accuracy: 0.6216\n",
      "Epoch 19, CIFAR-10 Batch 4:  Loss: 0.478562\n",
      "Accuracy: 0.6394\n",
      "Epoch 19, CIFAR-10 Batch 5:  Loss: 0.511943\n",
      "Accuracy: 0.6374\n",
      "Epoch 20, CIFAR-10 Batch 1:  Loss: 0.582244\n",
      "Accuracy: 0.6038\n",
      "Epoch 20, CIFAR-10 Batch 2:  Loss: 0.626828\n",
      "Accuracy: 0.6066\n",
      "Epoch 20, CIFAR-10 Batch 3:  Loss: 0.492955\n",
      "Accuracy: 0.6242\n",
      "Epoch 20, CIFAR-10 Batch 4:  Loss: 0.471231\n",
      "Accuracy: 0.6278\n",
      "Epoch 20, CIFAR-10 Batch 5:  Loss: 0.522248\n",
      "Accuracy: 0.6202\n",
      "Epoch 21, CIFAR-10 Batch 1:  Loss: 0.54281\n",
      "Accuracy: 0.6106\n",
      "Epoch 21, CIFAR-10 Batch 2:  Loss: 0.563115\n",
      "Accuracy: 0.6124\n",
      "Epoch 21, CIFAR-10 Batch 3:  Loss: 0.481371\n",
      "Accuracy: 0.6172\n",
      "Epoch 21, CIFAR-10 Batch 4:  Loss: 0.433328\n",
      "Accuracy: 0.6394\n",
      "Epoch 21, CIFAR-10 Batch 5:  Loss: 0.462569\n",
      "Accuracy: 0.6256\n",
      "Epoch 22, CIFAR-10 Batch 1:  Loss: 0.57036\n",
      "Accuracy: 0.5982\n",
      "Epoch 22, CIFAR-10 Batch 2:  Loss: 0.574756\n",
      "Accuracy: 0.6012\n",
      "Epoch 22, CIFAR-10 Batch 3:  Loss: 0.438309\n",
      "Accuracy: 0.6228\n",
      "Epoch 22, CIFAR-10 Batch 4:  Loss: 0.421671\n",
      "Accuracy: 0.6362\n",
      "Epoch 22, CIFAR-10 Batch 5:  Loss: 0.408205\n",
      "Accuracy: 0.6332\n",
      "Epoch 23, CIFAR-10 Batch 1:  Loss: 0.507036\n",
      "Accuracy: 0.605\n",
      "Epoch 23, CIFAR-10 Batch 2:  Loss: 0.586975\n",
      "Accuracy: 0.5786\n",
      "Epoch 23, CIFAR-10 Batch 3:  Loss: 0.445923\n",
      "Accuracy: 0.6148\n",
      "Epoch 23, CIFAR-10 Batch 4:  Loss: 0.40591\n",
      "Accuracy: 0.6302\n",
      "Epoch 23, CIFAR-10 Batch 5:  Loss: 0.401802\n",
      "Accuracy: 0.634\n",
      "Epoch 24, CIFAR-10 Batch 1:  Loss: 0.48237\n",
      "Accuracy: 0.6144\n",
      "Epoch 24, CIFAR-10 Batch 2:  Loss: 0.583389\n",
      "Accuracy: 0.5762\n",
      "Epoch 24, CIFAR-10 Batch 3:  Loss: 0.440057\n",
      "Accuracy: 0.6086\n",
      "Epoch 24, CIFAR-10 Batch 4:  Loss: 0.409352\n",
      "Accuracy: 0.6354\n",
      "Epoch 24, CIFAR-10 Batch 5:  Loss: 0.379851\n",
      "Accuracy: 0.6304\n",
      "Epoch 25, CIFAR-10 Batch 1:  Loss: 0.462265\n",
      "Accuracy: 0.6026\n",
      "Epoch 25, CIFAR-10 Batch 2:  Loss: 0.579573\n",
      "Accuracy: 0.5704\n",
      "Epoch 25, CIFAR-10 Batch 3:  Loss: 0.42518\n",
      "Accuracy: 0.607\n",
      "Epoch 25, CIFAR-10 Batch 4:  Loss: 0.382627\n",
      "Accuracy: 0.6324\n",
      "Epoch 25, CIFAR-10 Batch 5:  Loss: 0.393267\n",
      "Accuracy: 0.6224\n",
      "Epoch 26, CIFAR-10 Batch 1:  Loss: 0.463713\n",
      "Accuracy: 0.6012\n",
      "Epoch 26, CIFAR-10 Batch 2:  Loss: 0.509779\n",
      "Accuracy: 0.5878\n",
      "Epoch 26, CIFAR-10 Batch 3:  Loss: 0.439822\n",
      "Accuracy: 0.6196\n",
      "Epoch 26, CIFAR-10 Batch 4:  Loss: 0.375643\n",
      "Accuracy: 0.6382\n",
      "Epoch 26, CIFAR-10 Batch 5:  Loss: 0.38142\n",
      "Accuracy: 0.6234\n",
      "Epoch 27, CIFAR-10 Batch 1:  Loss: 0.458185\n",
      "Accuracy: 0.6228\n",
      "Epoch 27, CIFAR-10 Batch 2:  Loss: 0.520259\n",
      "Accuracy: 0.6052\n",
      "Epoch 27, CIFAR-10 Batch 3:  Loss: 0.360053\n",
      "Accuracy: 0.624\n",
      "Epoch 27, CIFAR-10 Batch 4:  Loss: 0.392687\n",
      "Accuracy: 0.6296\n",
      "Epoch 27, CIFAR-10 Batch 5:  Loss: 0.402996\n",
      "Accuracy: 0.6102\n",
      "Epoch 28, CIFAR-10 Batch 1:  Loss: 0.445523\n",
      "Accuracy: 0.6334\n",
      "Epoch 28, CIFAR-10 Batch 2:  Loss: 0.514771\n",
      "Accuracy: 0.592\n",
      "Epoch 28, CIFAR-10 Batch 3:  Loss: 0.339516\n",
      "Accuracy: 0.62\n",
      "Epoch 28, CIFAR-10 Batch 4:  Loss: 0.370615\n",
      "Accuracy: 0.6222\n",
      "Epoch 28, CIFAR-10 Batch 5:  Loss: 0.439412\n",
      "Accuracy: 0.5862\n",
      "Epoch 29, CIFAR-10 Batch 1:  Loss: 0.445404\n",
      "Accuracy: 0.6236\n",
      "Epoch 29, CIFAR-10 Batch 2:  Loss: 0.458643\n",
      "Accuracy: 0.6146\n",
      "Epoch 29, CIFAR-10 Batch 3:  Loss: 0.328921\n",
      "Accuracy: 0.623\n",
      "Epoch 29, CIFAR-10 Batch 4:  Loss: 0.329694\n",
      "Accuracy: 0.6258\n",
      "Epoch 29, CIFAR-10 Batch 5:  Loss: 0.355186\n",
      "Accuracy: 0.603\n",
      "Epoch 30, CIFAR-10 Batch 1:  Loss: 0.406372\n",
      "Accuracy: 0.6274\n",
      "Epoch 30, CIFAR-10 Batch 2:  Loss: 0.390669\n",
      "Accuracy: 0.6278\n",
      "Epoch 30, CIFAR-10 Batch 3:  Loss: 0.288821\n",
      "Accuracy: 0.63\n",
      "Epoch 30, CIFAR-10 Batch 4:  Loss: 0.321451\n",
      "Accuracy: 0.6194\n",
      "Epoch 30, CIFAR-10 Batch 5:  Loss: 0.301316\n",
      "Accuracy: 0.6056\n",
      "Epoch 31, CIFAR-10 Batch 1:  Loss: 0.402321\n",
      "Accuracy: 0.6156\n",
      "Epoch 31, CIFAR-10 Batch 2:  Loss: 0.36949\n",
      "Accuracy: 0.6166\n",
      "Epoch 31, CIFAR-10 Batch 3:  Loss: 0.285031\n",
      "Accuracy: 0.6262\n",
      "Epoch 31, CIFAR-10 Batch 4:  Loss: 0.398116\n",
      "Accuracy: 0.5858\n",
      "Epoch 31, CIFAR-10 Batch 5:  Loss: 0.30798\n",
      "Accuracy: 0.6122\n",
      "Epoch 32, CIFAR-10 Batch 1:  Loss: 0.43356\n",
      "Accuracy: 0.607\n",
      "Epoch 32, CIFAR-10 Batch 2:  Loss: 0.406163\n",
      "Accuracy: 0.6166\n",
      "Epoch 32, CIFAR-10 Batch 3:  Loss: 0.303054\n",
      "Accuracy: 0.6194\n",
      "Epoch 32, CIFAR-10 Batch 4:  Loss: 0.359948\n",
      "Accuracy: 0.6008\n",
      "Epoch 32, CIFAR-10 Batch 5:  Loss: 0.361439\n",
      "Accuracy: 0.5952\n",
      "Epoch 33, CIFAR-10 Batch 1:  Loss: 0.435503\n",
      "Accuracy: 0.602\n",
      "Epoch 33, CIFAR-10 Batch 2:  Loss: 0.418621\n",
      "Accuracy: 0.6148\n",
      "Epoch 33, CIFAR-10 Batch 3:  Loss: 0.319738\n",
      "Accuracy: 0.628\n",
      "Epoch 33, CIFAR-10 Batch 4:  Loss: 0.357463\n",
      "Accuracy: 0.6034\n",
      "Epoch 33, CIFAR-10 Batch 5:  Loss: 0.343512\n",
      "Accuracy: 0.6116\n",
      "Epoch 34, CIFAR-10 Batch 1:  Loss: 0.395129\n",
      "Accuracy: 0.6022\n",
      "Epoch 34, CIFAR-10 Batch 2:  Loss: 0.413831\n",
      "Accuracy: 0.62\n",
      "Epoch 34, CIFAR-10 Batch 3:  Loss: 0.276956\n",
      "Accuracy: 0.633\n",
      "Epoch 34, CIFAR-10 Batch 4:  Loss: 0.313951\n",
      "Accuracy: 0.6176\n",
      "Epoch 34, CIFAR-10 Batch 5:  Loss: 0.338309\n",
      "Accuracy: 0.6006\n",
      "Epoch 35, CIFAR-10 Batch 1:  Loss: 0.37824\n",
      "Accuracy: 0.6044\n",
      "Epoch 35, CIFAR-10 Batch 2:  Loss: 0.391363\n",
      "Accuracy: 0.629\n",
      "Epoch 35, CIFAR-10 Batch 3:  Loss: 0.240289\n",
      "Accuracy: 0.6286\n",
      "Epoch 35, CIFAR-10 Batch 4:  Loss: 0.29025\n",
      "Accuracy: 0.6264\n",
      "Epoch 35, CIFAR-10 Batch 5:  Loss: 0.287088\n",
      "Accuracy: 0.6018\n",
      "Epoch 36, CIFAR-10 Batch 1:  Loss: 0.358882\n",
      "Accuracy: 0.6022\n",
      "Epoch 36, CIFAR-10 Batch 2:  Loss: 0.34686\n",
      "Accuracy: 0.6234\n",
      "Epoch 36, CIFAR-10 Batch 3:  Loss: 0.231956\n",
      "Accuracy: 0.6256\n",
      "Epoch 36, CIFAR-10 Batch 4:  Loss: 0.272477\n",
      "Accuracy: 0.6244\n",
      "Epoch 36, CIFAR-10 Batch 5:  Loss: 0.226055\n",
      "Accuracy: 0.618\n",
      "Epoch 37, CIFAR-10 Batch 1:  Loss: 0.351644\n",
      "Accuracy: 0.6034\n",
      "Epoch 37, CIFAR-10 Batch 2:  Loss: 0.346535\n",
      "Accuracy: 0.6304\n",
      "Epoch 37, CIFAR-10 Batch 3:  Loss: 0.251353\n",
      "Accuracy: 0.6166\n",
      "Epoch 37, CIFAR-10 Batch 4:  Loss: 0.259074\n",
      "Accuracy: 0.6216\n",
      "Epoch 37, CIFAR-10 Batch 5:  Loss: 0.287922\n",
      "Accuracy: 0.6106\n",
      "Epoch 38, CIFAR-10 Batch 1:  Loss: 0.296954\n",
      "Accuracy: 0.6098\n",
      "Epoch 38, CIFAR-10 Batch 2:  Loss: 0.331213\n",
      "Accuracy: 0.628\n",
      "Epoch 38, CIFAR-10 Batch 3:  Loss: 0.219748\n",
      "Accuracy: 0.622\n",
      "Epoch 38, CIFAR-10 Batch 4:  Loss: 0.227261\n",
      "Accuracy: 0.628\n",
      "Epoch 38, CIFAR-10 Batch 5:  Loss: 0.209437\n",
      "Accuracy: 0.6128\n",
      "Epoch 39, CIFAR-10 Batch 1:  Loss: 0.273636\n",
      "Accuracy: 0.6134\n",
      "Epoch 39, CIFAR-10 Batch 2:  Loss: 0.322006\n",
      "Accuracy: 0.6242\n",
      "Epoch 39, CIFAR-10 Batch 3:  Loss: 0.219381\n",
      "Accuracy: 0.6208\n",
      "Epoch 39, CIFAR-10 Batch 4:  Loss: 0.236822\n",
      "Accuracy: 0.624\n",
      "Epoch 39, CIFAR-10 Batch 5:  Loss: 0.231\n",
      "Accuracy: 0.609\n",
      "Epoch 40, CIFAR-10 Batch 1:  Loss: 0.262465\n",
      "Accuracy: 0.607\n",
      "Epoch 40, CIFAR-10 Batch 2:  Loss: 0.324019\n",
      "Accuracy: 0.6104\n",
      "Epoch 40, CIFAR-10 Batch 3:  Loss: 0.241727\n",
      "Accuracy: 0.6154\n",
      "Epoch 40, CIFAR-10 Batch 4:  Loss: 0.251241\n",
      "Accuracy: 0.6168\n",
      "Epoch 40, CIFAR-10 Batch 5:  Loss: 0.271711\n",
      "Accuracy: 0.604\n",
      "Epoch 41, CIFAR-10 Batch 1:  Loss: 0.328559\n",
      "Accuracy: 0.6066\n",
      "Epoch 41, CIFAR-10 Batch 2:  Loss: 0.305723\n",
      "Accuracy: 0.6186\n",
      "Epoch 41, CIFAR-10 Batch 3:  Loss: 0.279314\n",
      "Accuracy: 0.6002\n",
      "Epoch 41, CIFAR-10 Batch 4:  Loss: 0.251188\n",
      "Accuracy: 0.6096\n",
      "Epoch 41, CIFAR-10 Batch 5:  Loss: 0.27778\n",
      "Accuracy: 0.5988\n",
      "Epoch 42, CIFAR-10 Batch 1:  Loss: 0.325376\n",
      "Accuracy: 0.597\n",
      "Epoch 42, CIFAR-10 Batch 2:  Loss: 0.288511\n",
      "Accuracy: 0.6184\n",
      "Epoch 42, CIFAR-10 Batch 3:  Loss: 0.204338\n",
      "Accuracy: 0.6198\n",
      "Epoch 42, CIFAR-10 Batch 4:  Loss: 0.300294\n",
      "Accuracy: 0.5908\n",
      "Epoch 42, CIFAR-10 Batch 5:  Loss: 0.245947\n",
      "Accuracy: 0.6038\n",
      "Epoch 43, CIFAR-10 Batch 1:  Loss: 0.30885\n",
      "Accuracy: 0.592\n",
      "Epoch 43, CIFAR-10 Batch 2:  Loss: 0.310565\n",
      "Accuracy: 0.617\n",
      "Epoch 43, CIFAR-10 Batch 3:  Loss: 0.187892\n",
      "Accuracy: 0.6204\n",
      "Epoch 43, CIFAR-10 Batch 4:  Loss: 0.232747\n",
      "Accuracy: 0.61\n",
      "Epoch 43, CIFAR-10 Batch 5:  Loss: 0.253669\n",
      "Accuracy: 0.6038\n",
      "Epoch 44, CIFAR-10 Batch 1:  Loss: 0.319873\n",
      "Accuracy: 0.591\n",
      "Epoch 44, CIFAR-10 Batch 2:  Loss: 0.342182\n",
      "Accuracy: 0.612\n",
      "Epoch 44, CIFAR-10 Batch 3:  Loss: 0.191423\n",
      "Accuracy: 0.6132\n",
      "Epoch 44, CIFAR-10 Batch 4:  Loss: 0.199983\n",
      "Accuracy: 0.6208\n",
      "Epoch 44, CIFAR-10 Batch 5:  Loss: 0.249666\n",
      "Accuracy: 0.6176\n",
      "Epoch 45, CIFAR-10 Batch 1:  Loss: 0.320709\n",
      "Accuracy: 0.5954\n",
      "Epoch 45, CIFAR-10 Batch 2:  Loss: 0.32588\n",
      "Accuracy: 0.6092\n",
      "Epoch 45, CIFAR-10 Batch 3:  Loss: 0.173835\n",
      "Accuracy: 0.6144\n",
      "Epoch 45, CIFAR-10 Batch 4:  Loss: 0.227248\n",
      "Accuracy: 0.6052\n",
      "Epoch 45, CIFAR-10 Batch 5:  Loss: 0.212633\n",
      "Accuracy: 0.6092\n",
      "Epoch 46, CIFAR-10 Batch 1:  Loss: 0.406605\n",
      "Accuracy: 0.5674\n",
      "Epoch 46, CIFAR-10 Batch 2:  Loss: 0.315883\n",
      "Accuracy: 0.6114\n",
      "Epoch 46, CIFAR-10 Batch 3:  Loss: 0.216074\n",
      "Accuracy: 0.61\n",
      "Epoch 46, CIFAR-10 Batch 4:  Loss: 0.230888\n",
      "Accuracy: 0.6154\n",
      "Epoch 46, CIFAR-10 Batch 5:  Loss: 0.228076\n",
      "Accuracy: 0.6212\n",
      "Epoch 47, CIFAR-10 Batch 1:  Loss: 0.291396\n",
      "Accuracy: 0.6014\n",
      "Epoch 47, CIFAR-10 Batch 2:  Loss: 0.289984\n",
      "Accuracy: 0.6224\n",
      "Epoch 47, CIFAR-10 Batch 3:  Loss: 0.187009\n",
      "Accuracy: 0.6172\n",
      "Epoch 47, CIFAR-10 Batch 4:  Loss: 0.24637\n",
      "Accuracy: 0.6046\n",
      "Epoch 47, CIFAR-10 Batch 5:  Loss: 0.192847\n",
      "Accuracy: 0.6202\n",
      "Epoch 48, CIFAR-10 Batch 1:  Loss: 0.246482\n",
      "Accuracy: 0.61\n",
      "Epoch 48, CIFAR-10 Batch 2:  Loss: 0.309353\n",
      "Accuracy: 0.6104\n",
      "Epoch 48, CIFAR-10 Batch 3:  Loss: 0.176372\n",
      "Accuracy: 0.6166\n",
      "Epoch 48, CIFAR-10 Batch 4:  Loss: 0.243809\n",
      "Accuracy: 0.5906\n",
      "Epoch 48, CIFAR-10 Batch 5:  Loss: 0.244925\n",
      "Accuracy: 0.623\n",
      "Epoch 49, CIFAR-10 Batch 1:  Loss: 0.22798\n",
      "Accuracy: 0.6264\n",
      "Epoch 49, CIFAR-10 Batch 2:  Loss: 0.318608\n",
      "Accuracy: 0.6018\n",
      "Epoch 49, CIFAR-10 Batch 3:  Loss: 0.20191\n",
      "Accuracy: 0.6154\n",
      "Epoch 49, CIFAR-10 Batch 4:  Loss: 0.212792\n",
      "Accuracy: 0.6074\n",
      "Epoch 49, CIFAR-10 Batch 5:  Loss: 0.235864\n",
      "Accuracy: 0.6232\n",
      "Epoch 50, CIFAR-10 Batch 1:  Loss: 0.21344\n",
      "Accuracy: 0.6172\n",
      "Epoch 50, CIFAR-10 Batch 2:  Loss: 0.276217\n",
      "Accuracy: 0.6052\n",
      "Epoch 50, CIFAR-10 Batch 3:  Loss: 0.171001\n",
      "Accuracy: 0.6084\n",
      "Epoch 50, CIFAR-10 Batch 4:  Loss: 0.194936\n",
      "Accuracy: 0.604\n",
      "Epoch 50, CIFAR-10 Batch 5:  Loss: 0.193373\n",
      "Accuracy: 0.6176\n"
     ]
    }
   ],
   "source": [
    "\"\"\"\n",
    "DON'T MODIFY ANYTHING IN THIS CELL\n",
    "\"\"\"\n",
    "save_model_path = './image_classification'\n",
    "\n",
    "print('Training...')\n",
    "with tf.Session() as sess:\n",
    "    # Initializing the variables\n",
    "    sess.run(tf.global_variables_initializer())\n",
    "    \n",
    "    # Training cycle\n",
    "    for epoch in range(epochs):\n",
    "        # Loop over all batches\n",
    "        n_batches = 5\n",
    "        for batch_i in range(1, n_batches + 1):\n",
    "            for batch_features, batch_labels in helper.load_preprocess_training_batch(batch_i, batch_size):\n",
    "                train_neural_network(sess, optimizer, keep_probability, batch_features, batch_labels)\n",
    "            print('Epoch {:>2}, CIFAR-10 Batch {}:  '.format(epoch + 1, batch_i), end='')\n",
    "            print_stats(sess, batch_features, batch_labels, cost, accuracy)\n",
    "            \n",
    "    # Save Model\n",
    "    saver = tf.train.Saver()\n",
    "    save_path = saver.save(sess, save_model_path)"
   ]
  },
  {
   "cell_type": "markdown",
   "metadata": {
    "deletable": true,
    "editable": true
   },
   "source": [
    "# Checkpoint\n",
    "The model has been saved to disk.\n",
    "## Test Model"
   ]
  },
  {
   "cell_type": "code",
   "execution_count": 18,
   "metadata": {
    "collapsed": false,
    "deletable": true,
    "editable": true
   },
   "outputs": [
    {
     "name": "stdout",
     "output_type": "stream",
     "text": [
      "Testing Accuracy: 0.6173483461141587\n",
      "\n"
     ]
    },
    {
     "data": {
      "image/png": "[encoded data removed]",
      "text/plain": [
       "<matplotlib.figure.Figure at 0x7fb60c6eaf28>"
      ]
     },
     "metadata": {
      "image/png": {
       "height": 319,
       "width": 355
      }
     },
     "output_type": "display_data"
    }
   ],
   "source": [
    "%matplotlib inline\n",
    "%config InlineBackend.figure_format = 'retina'\n",
    "\n",
    "import tensorflow as tf\n",
    "import pickle\n",
    "import helper\n",
    "import random\n",
    "\n",
    "# Set batch size if not already set\n",
    "try:\n",
    "    if batch_size:\n",
    "        pass\n",
    "except NameError:\n",
    "    batch_size = 64\n",
    "\n",
    "save_model_path = './image_classification'\n",
    "n_samples = 4\n",
    "top_n_predictions = 3\n",
    "\n",
    "def test_model():\n",
    "    \"\"\"\n",
    "    Test the saved model against the test dataset\n",
    "    \"\"\"\n",
    "\n",
    "    test_features, test_labels = pickle.load(open('preprocess_test.p', mode='rb'))\n",
    "    loaded_graph = tf.Graph()\n",
    "\n",
    "    with tf.Session(graph=loaded_graph) as sess:\n",
    "        # Load model\n",
    "        loader = tf.train.import_meta_graph(save_model_path + '.meta')\n",
    "        loader.restore(sess, save_model_path)\n",
    "\n",
    "        # Get Tensors from loaded model\n",
    "        loaded_x = loaded_graph.get_tensor_by_name('x:0')\n",
    "        loaded_y = loaded_graph.get_tensor_by_name('y:0')\n",
    "        loaded_keep_prob = loaded_graph.get_tensor_by_name('keep_prob:0')\n",
    "        loaded_logits = loaded_graph.get_tensor_by_name('logits:0')\n",
    "        loaded_acc = loaded_graph.get_tensor_by_name('accuracy:0')\n",
    "        \n",
    "        # Get accuracy in batches for memory limitations\n",
    "        test_batch_acc_total = 0\n",
    "        test_batch_count = 0\n",
    "        \n",
    "        for test_feature_batch, test_label_batch in helper.batch_features_labels(test_features, test_labels, batch_size):\n",
    "            test_batch_acc_total += sess.run(\n",
    "                loaded_acc,\n",
    "                feed_dict={loaded_x: test_feature_batch, loaded_y: test_label_batch, loaded_keep_prob: 1.0})\n",
    "            test_batch_count += 1\n",
    "\n",
    "        print('Testing Accuracy: {}\\n'.format(test_batch_acc_total/test_batch_count))\n",
    "\n",
    "        # Print Random Samples\n",
    "        random_test_features, random_test_labels = tuple(zip(*random.sample(list(zip(test_features, test_labels)), n_samples)))\n",
    "        random_test_predictions = sess.run(\n",
    "            tf.nn.top_k(tf.nn.softmax(loaded_logits), top_n_predictions),\n",
    "            feed_dict={loaded_x: random_test_features, loaded_y: random_test_labels, loaded_keep_prob: 1.0})\n",
    "        helper.display_image_predictions(random_test_features, random_test_labels, random_test_predictions)\n",
    "\n",
    "\n",
    "test_model()"
   ]
  }
 ],
 "metadata": {
  "kernelspec": {
   "display_name": "Python 3",
   "language": "python",
   "name": "python3"
  },
  "language_info": {
   "codemirror_mode": {
    "name": "ipython",
    "version": 3
   },
   "file_extension": ".py",
   "mimetype": "text/x-python",
   "name": "python",
   "nbconvert_exporter": "python",
   "pygments_lexer": "ipython3",
   "version": "3.5.2"
  },
  "widgets": {
   "state": {},
   "version": "1.1.2"
  }
 },
 "nbformat": 4,
 "nbformat_minor": 1
}
